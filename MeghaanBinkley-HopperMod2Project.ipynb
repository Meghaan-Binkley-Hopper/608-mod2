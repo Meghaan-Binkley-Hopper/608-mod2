{
 "cells": [
  {
   "cell_type": "markdown",
   "id": "7e229552-2624-4e5a-bc03-0e3593edc974",
   "metadata": {},
   "source": [
    "5. Programming Fundamentals\n",
    "3.6 Practice"
   ]
  },
  {
   "cell_type": "markdown",
   "id": "bc860837-9a90-4094-b0cc-ea53044d8188",
   "metadata": {},
   "source": [
    "Don't forget the colon after each statement!!"
   ]
  },
  {
   "cell_type": "code",
   "execution_count": 1,
   "id": "84f4b7ae-47f1-4e45-8cad-fbf0e19c72c9",
   "metadata": {},
   "outputs": [],
   "source": [
    "grade = 77"
   ]
  },
  {
   "cell_type": "code",
   "execution_count": 2,
   "id": "64b2df4d-2846-425a-ae13-52e13c6919c8",
   "metadata": {},
   "outputs": [
    {
     "name": "stdout",
     "output_type": "stream",
     "text": [
      "C\n"
     ]
    }
   ],
   "source": [
    "if grade >= 90:\n",
    "    print('A')\n",
    "elif grade >= 80:\n",
    "    print('B')\n",
    "elif grade >= 70:\n",
    "    print('C')\n",
    "elif grade >= 60:\n",
    "    print('D')\n",
    "else:\n",
    "    print('F')"
   ]
  },
  {
   "cell_type": "markdown",
   "id": "b7a96f7c-5e2d-4a93-adbb-54e6b1524fcd",
   "metadata": {},
   "source": [
    "3.7 Practice"
   ]
  },
  {
   "cell_type": "code",
   "execution_count": 3,
   "id": "cdf0a4ec-328b-4c91-b691-6ad17c81d1b3",
   "metadata": {},
   "outputs": [],
   "source": [
    "product = 7"
   ]
  },
  {
   "cell_type": "code",
   "execution_count": 4,
   "id": "1df97336-f40a-45d5-bcba-3a7a984b3068",
   "metadata": {},
   "outputs": [],
   "source": [
    "while product <= 1000:\n",
    "    product = product * 7"
   ]
  },
  {
   "cell_type": "code",
   "execution_count": 5,
   "id": "17f349c4-67a6-4e62-a7fb-49075a28ef3b",
   "metadata": {},
   "outputs": [
    {
     "data": {
      "text/plain": [
       "2401"
      ]
     },
     "execution_count": 5,
     "metadata": {},
     "output_type": "execute_result"
    }
   ],
   "source": [
    "product"
   ]
  },
  {
   "cell_type": "markdown",
   "id": "df2c959f-cc48-425a-8dda-49b0b9b6183d",
   "metadata": {},
   "source": [
    "3.8 Practice"
   ]
  },
  {
   "cell_type": "markdown",
   "id": "29d868f7-d041-4bb3-8fd6-20a87425b384",
   "metadata": {},
   "source": [
    "end= allows you to change the behavior of the end of a print command"
   ]
  },
  {
   "cell_type": "code",
   "execution_count": 6,
   "id": "a2693803-0967-48f7-9c8b-6a183e077572",
   "metadata": {},
   "outputs": [],
   "source": [
    "total = 0"
   ]
  },
  {
   "cell_type": "code",
   "execution_count": 7,
   "id": "46c2092c-ce3b-458f-8739-c59892dca58f",
   "metadata": {},
   "outputs": [],
   "source": [
    "for number in range(1000001):\n",
    "    total = total + number #Could also be written as total+=number"
   ]
  },
  {
   "cell_type": "code",
   "execution_count": 8,
   "id": "17f39b33-decf-41da-a0ec-23d8209b1848",
   "metadata": {},
   "outputs": [
    {
     "data": {
      "text/plain": [
       "500000500000"
      ]
     },
     "execution_count": 8,
     "metadata": {},
     "output_type": "execute_result"
    }
   ],
   "source": [
    "total"
   ]
  },
  {
   "cell_type": "markdown",
   "id": "096f2cb9-b4fe-42e1-9764-5144fdb40ab8",
   "metadata": {},
   "source": [
    "3.9 Practice"
   ]
  },
  {
   "cell_type": "code",
   "execution_count": 9,
   "id": "b26e66d5-e4ae-44be-a8bd-9a2497dd4bcc",
   "metadata": {},
   "outputs": [],
   "source": [
    "x = 7"
   ]
  },
  {
   "cell_type": "code",
   "execution_count": 10,
   "id": "eb875fb3-1791-4fba-95df-dbb2ce423a19",
   "metadata": {},
   "outputs": [],
   "source": [
    "x *= 5"
   ]
  },
  {
   "cell_type": "code",
   "execution_count": 11,
   "id": "fd26bc39-8362-470e-bf19-cdc5f22ef9fb",
   "metadata": {},
   "outputs": [
    {
     "name": "stdout",
     "output_type": "stream",
     "text": [
      "35\n"
     ]
    }
   ],
   "source": [
    "print(x)"
   ]
  },
  {
   "cell_type": "code",
   "execution_count": 12,
   "id": "0eeb035b-e37d-4b31-9359-c07d055c3b4b",
   "metadata": {},
   "outputs": [],
   "source": [
    "x = 12"
   ]
  },
  {
   "cell_type": "code",
   "execution_count": 13,
   "id": "f68e7aa6-abfa-4846-86b6-ff3d768c1af8",
   "metadata": {},
   "outputs": [],
   "source": [
    "x **= 2"
   ]
  },
  {
   "cell_type": "code",
   "execution_count": 14,
   "id": "ec2a6fea-b347-4787-ae0c-0cf2b4bef392",
   "metadata": {},
   "outputs": [
    {
     "data": {
      "text/plain": [
       "144"
      ]
     },
     "execution_count": 14,
     "metadata": {},
     "output_type": "execute_result"
    }
   ],
   "source": [
    "x"
   ]
  },
  {
   "cell_type": "markdown",
   "id": "23d472a0-1cbc-4224-8cde-f1166821f19f",
   "metadata": {},
   "source": [
    "3.10 Practice"
   ]
  },
  {
   "cell_type": "markdown",
   "id": "b2faaa4b-5fd4-4455-8e46-fa3de0d535d0",
   "metadata": {},
   "source": [
    "f-string is a formatted string"
   ]
  },
  {
   "cell_type": "code",
   "execution_count": 15,
   "id": "bdf5bcc7-8114-4c59-9d9f-f4a97860cb17",
   "metadata": {},
   "outputs": [],
   "source": [
    "number1 = 7"
   ]
  },
  {
   "cell_type": "code",
   "execution_count": 16,
   "id": "dfb58c4d-855c-4835-9113-559b3379d7a0",
   "metadata": {},
   "outputs": [],
   "source": [
    "number2 = 5"
   ]
  },
  {
   "cell_type": "code",
   "execution_count": 17,
   "id": "3a22a69a-6800-41ec-96e5-c825622a3714",
   "metadata": {},
   "outputs": [
    {
     "name": "stdout",
     "output_type": "stream",
     "text": [
      "7 times 5 is 35\n"
     ]
    }
   ],
   "source": [
    "print(f'{number1} times {number2} is {number1 * number2}')"
   ]
  },
  {
   "cell_type": "markdown",
   "id": "6539b97b-3025-4106-8c79-0045f35a75aa",
   "metadata": {},
   "source": [
    "3.13 Practice"
   ]
  },
  {
   "cell_type": "code",
   "execution_count": 18,
   "id": "d8860874-d0de-458c-89ef-f40a36d06a40",
   "metadata": {},
   "outputs": [],
   "source": [
    "for number in range(10,0,2):\n",
    "    print(number, end=\"  \")"
   ]
  },
  {
   "cell_type": "code",
   "execution_count": 19,
   "id": "7fe2c901-8b68-4c1d-a1cd-13167ea540ef",
   "metadata": {},
   "outputs": [
    {
     "name": "stdout",
     "output_type": "stream",
     "text": [
      "99  88  77  66  55  44  33  22  11  0  "
     ]
    }
   ],
   "source": [
    "for number in range(99, -1, -11):\n",
    "    print(number, end='  ')"
   ]
  },
  {
   "cell_type": "code",
   "execution_count": 20,
   "id": "6a4ad394-0e7b-4ea4-bc00-7195ef543c05",
   "metadata": {},
   "outputs": [],
   "source": [
    "total = 0"
   ]
  },
  {
   "cell_type": "code",
   "execution_count": 21,
   "id": "dd5ec506-e6c3-41fd-ac3f-abe72685d85e",
   "metadata": {},
   "outputs": [],
   "source": [
    "for number in range(2, 101, 2):\n",
    "    total += number"
   ]
  },
  {
   "cell_type": "code",
   "execution_count": 22,
   "id": "3cf76e32-a1aa-441a-9b81-19adf4216add",
   "metadata": {},
   "outputs": [
    {
     "data": {
      "text/plain": [
       "2550"
      ]
     },
     "execution_count": 22,
     "metadata": {},
     "output_type": "execute_result"
    }
   ],
   "source": [
    "total"
   ]
  },
  {
   "cell_type": "markdown",
   "id": "79718eb9-d8a3-4a55-8030-4971d3a1c503",
   "metadata": {},
   "source": [
    "3.15 Practice"
   ]
  },
  {
   "cell_type": "code",
   "execution_count": 23,
   "id": "112bac1e-30ef-4ed2-bd9e-4019cf5b3f2f",
   "metadata": {},
   "outputs": [
    {
     "name": "stdout",
     "output_type": "stream",
     "text": [
      "0  1  2  3  4  5  6  7  8  9  "
     ]
    }
   ],
   "source": [
    "for number in range(100):\n",
    "    if number == 10:\n",
    "        break\n",
    "    print(number, end='  ')"
   ]
  },
  {
   "cell_type": "code",
   "execution_count": 24,
   "id": "f027d087-24b8-4de6-881f-be03ab50fb8a",
   "metadata": {},
   "outputs": [
    {
     "name": "stdout",
     "output_type": "stream",
     "text": [
      "0  1  2  3  4  6  7  8  9  "
     ]
    }
   ],
   "source": [
    "for number in range(10):\n",
    "    if number == 5:\n",
    "        continue\n",
    "    print(number, end='  ')"
   ]
  },
  {
   "cell_type": "markdown",
   "id": "ebc2020b-fd95-4215-9742-deeae65dae48",
   "metadata": {},
   "source": [
    "3.16 Practice"
   ]
  },
  {
   "cell_type": "code",
   "execution_count": 25,
   "id": "969810c7-a1c0-4dbd-849f-e00e085ce20a",
   "metadata": {},
   "outputs": [],
   "source": [
    "i = 1"
   ]
  },
  {
   "cell_type": "code",
   "execution_count": 26,
   "id": "5b155dbb-4fb2-407e-8928-9c61d4c4311f",
   "metadata": {},
   "outputs": [],
   "source": [
    "j = 2"
   ]
  },
  {
   "cell_type": "code",
   "execution_count": 27,
   "id": "078b1351-e487-4830-9b6a-442faff1adb7",
   "metadata": {},
   "outputs": [],
   "source": [
    "k = 3"
   ]
  },
  {
   "cell_type": "code",
   "execution_count": 28,
   "id": "85985d23-7b0f-4439-99a1-a199aa3883e9",
   "metadata": {},
   "outputs": [],
   "source": [
    "m = 2"
   ]
  },
  {
   "cell_type": "code",
   "execution_count": 29,
   "id": "2b73aea2-0262-4bf8-b4fd-ca986c32396f",
   "metadata": {},
   "outputs": [
    {
     "data": {
      "text/plain": [
       "True"
      ]
     },
     "execution_count": 29,
     "metadata": {},
     "output_type": "execute_result"
    }
   ],
   "source": [
    "(i >= 1) and (j <4)"
   ]
  },
  {
   "cell_type": "code",
   "execution_count": 30,
   "id": "d404e42d-3cc7-4b53-9dcf-fc7d1307f636",
   "metadata": {},
   "outputs": [
    {
     "data": {
      "text/plain": [
       "False"
      ]
     },
     "execution_count": 30,
     "metadata": {},
     "output_type": "execute_result"
    }
   ],
   "source": [
    "(m <= 99) and (k < m)"
   ]
  },
  {
   "cell_type": "code",
   "execution_count": 31,
   "id": "d2bcad53-2537-44d7-b616-17fd1fbae240",
   "metadata": {},
   "outputs": [
    {
     "data": {
      "text/plain": [
       "True"
      ]
     },
     "execution_count": 31,
     "metadata": {},
     "output_type": "execute_result"
    }
   ],
   "source": [
    "(j >= i) or (k == m)"
   ]
  },
  {
   "cell_type": "code",
   "execution_count": 32,
   "id": "be59ae77-70d2-4713-8e0b-79badd125d5d",
   "metadata": {},
   "outputs": [
    {
     "data": {
      "text/plain": [
       "False"
      ]
     },
     "execution_count": 32,
     "metadata": {},
     "output_type": "execute_result"
    }
   ],
   "source": [
    "(k + m < j) or (3 - j >= k)"
   ]
  },
  {
   "cell_type": "code",
   "execution_count": 33,
   "id": "35182b98-d67c-4c6d-9919-2c6bfd9cbc5d",
   "metadata": {},
   "outputs": [
    {
     "data": {
      "text/plain": [
       "False"
      ]
     },
     "execution_count": 33,
     "metadata": {},
     "output_type": "execute_result"
    }
   ],
   "source": [
    "not (k > m)"
   ]
  },
  {
   "cell_type": "markdown",
   "id": "1bdfb309-1138-430b-a641-82b8487840cc",
   "metadata": {},
   "source": [
    "6. Calculate Measures of Central Tendency - Native Python"
   ]
  },
  {
   "cell_type": "code",
   "execution_count": 34,
   "id": "3b9f0452-a046-4698-b153-ab77ff7eea74",
   "metadata": {},
   "outputs": [],
   "source": [
    "values = [47, 95, 88, 73, 88, 84]"
   ]
  },
  {
   "cell_type": "code",
   "execution_count": 35,
   "id": "9982f0f0-230e-4f6a-a90c-cdf7a9964e79",
   "metadata": {},
   "outputs": [
    {
     "data": {
      "text/plain": [
       "6"
      ]
     },
     "execution_count": 35,
     "metadata": {},
     "output_type": "execute_result"
    }
   ],
   "source": [
    "len(values)"
   ]
  },
  {
   "cell_type": "code",
   "execution_count": 36,
   "id": "68d43ce4-353d-4871-bdc3-2c78feacbd09",
   "metadata": {},
   "outputs": [
    {
     "data": {
      "text/plain": [
       "475"
      ]
     },
     "execution_count": 36,
     "metadata": {},
     "output_type": "execute_result"
    }
   ],
   "source": [
    "sum(values)"
   ]
  },
  {
   "cell_type": "code",
   "execution_count": 37,
   "id": "e5d6368c-e35d-48f6-b414-44e9f4c8853a",
   "metadata": {},
   "outputs": [],
   "source": [
    "mean = sum(values)/len(values)"
   ]
  },
  {
   "cell_type": "code",
   "execution_count": 38,
   "id": "8b19b790-1c5e-4801-8a2d-515218911620",
   "metadata": {},
   "outputs": [
    {
     "data": {
      "text/plain": [
       "79.16666666666667"
      ]
     },
     "execution_count": 38,
     "metadata": {},
     "output_type": "execute_result"
    }
   ],
   "source": [
    "mean"
   ]
  },
  {
   "cell_type": "markdown",
   "id": "cab9c258-31b3-479e-821f-4cc57687d414",
   "metadata": {},
   "source": [
    "7. Calculate Measures of Central Tendency - with Statistic Module"
   ]
  },
  {
   "cell_type": "code",
   "execution_count": 39,
   "id": "bf0ea95f-d7a9-4951-9f51-4880c5973b10",
   "metadata": {},
   "outputs": [],
   "source": [
    "import statistics"
   ]
  },
  {
   "cell_type": "code",
   "execution_count": 40,
   "id": "b4b363ad-fb3b-4d40-9da0-3527bc14b6a3",
   "metadata": {},
   "outputs": [],
   "source": [
    "values = [47, 95, 88, 73, 88, 84]"
   ]
  },
  {
   "cell_type": "code",
   "execution_count": 41,
   "id": "798fe15a-34d8-46f8-bf4a-8f8109faadac",
   "metadata": {},
   "outputs": [
    {
     "data": {
      "text/plain": [
       "79.16666666666667"
      ]
     },
     "execution_count": 41,
     "metadata": {},
     "output_type": "execute_result"
    }
   ],
   "source": [
    "statistics.mean(values)"
   ]
  },
  {
   "cell_type": "code",
   "execution_count": 42,
   "id": "35626f59-b503-4a0d-9d97-ebc8609b5db1",
   "metadata": {},
   "outputs": [
    {
     "data": {
      "text/plain": [
       "86.0"
      ]
     },
     "execution_count": 42,
     "metadata": {},
     "output_type": "execute_result"
    }
   ],
   "source": [
    "statistics.median(values)"
   ]
  },
  {
   "cell_type": "code",
   "execution_count": 43,
   "id": "479e6875-5131-4517-bd5c-4afa026f0614",
   "metadata": {},
   "outputs": [
    {
     "data": {
      "text/plain": [
       "88"
      ]
     },
     "execution_count": 43,
     "metadata": {},
     "output_type": "execute_result"
    }
   ],
   "source": [
    "statistics.mode(values)"
   ]
  },
  {
   "cell_type": "markdown",
   "id": "a1cc0d7b-c938-416b-a751-08c1f208380d",
   "metadata": {},
   "source": [
    "8. Custom Central Tendency"
   ]
  },
  {
   "cell_type": "code",
   "execution_count": 44,
   "id": "47259c80-ace5-4e82-85e1-7c78a2c5aef3",
   "metadata": {},
   "outputs": [],
   "source": [
    "customvalues = [22, 10, 10, 35, 62, 89]"
   ]
  },
  {
   "cell_type": "code",
   "execution_count": 45,
   "id": "db465a72-f8db-43cd-b902-174da65f2cff",
   "metadata": {},
   "outputs": [
    {
     "data": {
      "text/plain": [
       "6"
      ]
     },
     "execution_count": 45,
     "metadata": {},
     "output_type": "execute_result"
    }
   ],
   "source": [
    "len(customvalues)"
   ]
  },
  {
   "cell_type": "code",
   "execution_count": 46,
   "id": "6b9cdac5-9f63-4c52-b5c8-5c8a79a07a01",
   "metadata": {},
   "outputs": [
    {
     "data": {
      "text/plain": [
       "228"
      ]
     },
     "execution_count": 46,
     "metadata": {},
     "output_type": "execute_result"
    }
   ],
   "source": [
    "sum(customvalues)"
   ]
  },
  {
   "cell_type": "code",
   "execution_count": 47,
   "id": "d0a6861c-24b3-4d10-bcac-0e2cf0869786",
   "metadata": {},
   "outputs": [
    {
     "data": {
      "text/plain": [
       "38"
      ]
     },
     "execution_count": 47,
     "metadata": {},
     "output_type": "execute_result"
    }
   ],
   "source": [
    "statistics.mean(customvalues)"
   ]
  },
  {
   "cell_type": "code",
   "execution_count": 48,
   "id": "7f1b15fa-bf7a-49a0-90e0-197a9930b11a",
   "metadata": {},
   "outputs": [
    {
     "data": {
      "text/plain": [
       "28.5"
      ]
     },
     "execution_count": 48,
     "metadata": {},
     "output_type": "execute_result"
    }
   ],
   "source": [
    "statistics.median(customvalues)"
   ]
  },
  {
   "cell_type": "code",
   "execution_count": 49,
   "id": "5d906e89-d876-495d-91a6-0f0520193550",
   "metadata": {},
   "outputs": [
    {
     "data": {
      "text/plain": [
       "10"
      ]
     },
     "execution_count": 49,
     "metadata": {},
     "output_type": "execute_result"
    }
   ],
   "source": [
    "statistics.mode(customvalues)"
   ]
  }
 ],
 "metadata": {
  "kernelspec": {
   "display_name": "Python 3 (ipykernel)",
   "language": "python",
   "name": "python3"
  },
  "language_info": {
   "codemirror_mode": {
    "name": "ipython",
    "version": 3
   },
   "file_extension": ".py",
   "mimetype": "text/x-python",
   "name": "python",
   "nbconvert_exporter": "python",
   "pygments_lexer": "ipython3",
   "version": "3.9.7"
  }
 },
 "nbformat": 4,
 "nbformat_minor": 5
}
